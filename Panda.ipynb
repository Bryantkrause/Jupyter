{
 "cells": [
  {
   "cell_type": "code",
   "execution_count": 1,
   "id": "f554a534-ea49-433e-89d7-ddb8d351433b",
   "metadata": {},
   "outputs": [],
   "source": [
    "import pandas as pd\n",
    "import numpy as np"
   ]
  },
  {
   "cell_type": "code",
   "execution_count": 4,
   "id": "f26cb044-005c-4136-9cb2-059862455fda",
   "metadata": {},
   "outputs": [],
   "source": [
    "g7 = pd.Series([35.46, 63.95, 80.94, 60.66, 127.06, 64.51, 318.52])"
   ]
  },
  {
   "cell_type": "code",
   "execution_count": 5,
   "id": "d4b292c6-dbe9-4d3d-a7ff-b2e1b3230b60",
   "metadata": {},
   "outputs": [
    {
     "data": {
      "text/plain": [
       "0     35.46\n",
       "1     63.95\n",
       "2     80.94\n",
       "3     60.66\n",
       "4    127.06\n",
       "5     64.51\n",
       "6    318.52\n",
       "dtype: float64"
      ]
     },
     "execution_count": 5,
     "metadata": {},
     "output_type": "execute_result"
    }
   ],
   "source": [
    "g7"
   ]
  },
  {
   "cell_type": "code",
   "execution_count": 6,
   "id": "8d7f20c1-2e94-4df4-8b27-149d731e6695",
   "metadata": {},
   "outputs": [],
   "source": [
    "g7.name = 'population in millions'"
   ]
  },
  {
   "cell_type": "code",
   "execution_count": 7,
   "id": "092d1f6d-32cb-4fc7-916d-851d92a43394",
   "metadata": {},
   "outputs": [
    {
     "data": {
      "text/plain": [
       "0     35.46\n",
       "1     63.95\n",
       "2     80.94\n",
       "3     60.66\n",
       "4    127.06\n",
       "5     64.51\n",
       "6    318.52\n",
       "Name: population in millions, dtype: float64"
      ]
     },
     "execution_count": 7,
     "metadata": {},
     "output_type": "execute_result"
    }
   ],
   "source": [
    "g7"
   ]
  },
  {
   "cell_type": "code",
   "execution_count": 8,
   "id": "55b5d3bb-354b-47cc-9a0f-b1b0562959dc",
   "metadata": {},
   "outputs": [
    {
     "data": {
      "text/plain": [
       "array([ 35.46,  63.95,  80.94,  60.66, 127.06,  64.51, 318.52])"
      ]
     },
     "execution_count": 8,
     "metadata": {},
     "output_type": "execute_result"
    }
   ],
   "source": [
    "g7.values"
   ]
  },
  {
   "cell_type": "code",
   "execution_count": 9,
   "id": "2e2e6465-e593-40fc-a8d1-7fff90a0a223",
   "metadata": {},
   "outputs": [
    {
     "data": {
      "text/plain": [
       "numpy.ndarray"
      ]
     },
     "execution_count": 9,
     "metadata": {},
     "output_type": "execute_result"
    }
   ],
   "source": [
    "type(g7.values)"
   ]
  },
  {
   "cell_type": "code",
   "execution_count": 10,
   "id": "f382a7ab-1696-493e-97b4-61df1b96a45b",
   "metadata": {},
   "outputs": [
    {
     "data": {
      "text/plain": [
       "RangeIndex(start=0, stop=7, step=1)"
      ]
     },
     "execution_count": 10,
     "metadata": {},
     "output_type": "execute_result"
    }
   ],
   "source": [
    "g7.index"
   ]
  },
  {
   "cell_type": "code",
   "execution_count": 12,
   "id": "64894b28-b8a0-4b1a-95d4-bacb64612aa4",
   "metadata": {},
   "outputs": [],
   "source": [
    "g7.index = [\n",
    "    'Canada',\n",
    "    'France',\n",
    "    'Germany',\n",
    "    'Italy',\n",
    "    'Japan',\n",
    "    'UK',\n",
    "    'US'\n",
    "]"
   ]
  },
  {
   "cell_type": "code",
   "execution_count": 13,
   "id": "b70f28c3-1ea5-404c-8ce8-b49201bdd0ee",
   "metadata": {},
   "outputs": [
    {
     "data": {
      "text/plain": [
       "Index(['Canada', 'France', 'Germany', 'Italy', 'Japan', 'UK', 'US'], dtype='object')"
      ]
     },
     "execution_count": 13,
     "metadata": {},
     "output_type": "execute_result"
    }
   ],
   "source": [
    "g7.index"
   ]
  },
  {
   "cell_type": "code",
   "execution_count": 14,
   "id": "bd0f4abf-fa56-490c-a282-8d9048b91235",
   "metadata": {},
   "outputs": [
    {
     "data": {
      "text/plain": [
       "Canada      35.46\n",
       "France      63.95\n",
       "Germany     80.94\n",
       "Italy       60.66\n",
       "Japan      127.06\n",
       "UK          64.51\n",
       "US         318.52\n",
       "Name: population in millions, dtype: float64"
      ]
     },
     "execution_count": 14,
     "metadata": {},
     "output_type": "execute_result"
    }
   ],
   "source": [
    "g7"
   ]
  },
  {
   "cell_type": "code",
   "execution_count": 15,
   "id": "4dae80d6-ae4c-463b-9714-52879fa222c5",
   "metadata": {},
   "outputs": [
    {
     "data": {
      "text/plain": [
       "80.94"
      ]
     },
     "execution_count": 15,
     "metadata": {},
     "output_type": "execute_result"
    }
   ],
   "source": [
    "g7.iloc[2]"
   ]
  },
  {
   "cell_type": "code",
   "execution_count": 16,
   "id": "fcfe0c08-6585-437a-b26a-adb44a7899d0",
   "metadata": {},
   "outputs": [
    {
     "data": {
      "text/plain": [
       "Canada     False\n",
       "France     False\n",
       "Germany     True\n",
       "Italy      False\n",
       "Japan       True\n",
       "UK         False\n",
       "US          True\n",
       "Name: population in millions, dtype: bool"
      ]
     },
     "execution_count": 16,
     "metadata": {},
     "output_type": "execute_result"
    }
   ],
   "source": [
    "g7 > 70"
   ]
  },
  {
   "cell_type": "code",
   "execution_count": 17,
   "id": "61a54944-1683-4cac-98e4-c418884c08cf",
   "metadata": {},
   "outputs": [
    {
     "data": {
      "text/plain": [
       "Canada      35460000.0\n",
       "France      63950000.0\n",
       "Germany     80940000.0\n",
       "Italy       60660000.0\n",
       "Japan      127060000.0\n",
       "UK          64510000.0\n",
       "US         318520000.0\n",
       "Name: population in millions, dtype: float64"
      ]
     },
     "execution_count": 17,
     "metadata": {},
     "output_type": "execute_result"
    }
   ],
   "source": [
    "g7 * 1000000"
   ]
  },
  {
   "cell_type": "code",
   "execution_count": 18,
   "id": "bbb27ffc-3e04-4347-8bfb-00c03c619587",
   "metadata": {},
   "outputs": [
    {
     "data": {
      "text/plain": [
       "Canada      35.46\n",
       "France      63.95\n",
       "Germany     80.94\n",
       "Italy       60.66\n",
       "Japan      127.06\n",
       "UK          64.51\n",
       "US         318.52\n",
       "Name: population in millions, dtype: float64"
      ]
     },
     "execution_count": 18,
     "metadata": {},
     "output_type": "execute_result"
    }
   ],
   "source": [
    "g7"
   ]
  },
  {
   "cell_type": "code",
   "execution_count": 19,
   "id": "7c2a0cfb-6bd4-44a1-815e-19ebaa5457c1",
   "metadata": {},
   "outputs": [
    {
     "data": {
      "text/plain": [
       "Germany     80.94\n",
       "Japan      127.06\n",
       "US         318.52\n",
       "Name: population in millions, dtype: float64"
      ]
     },
     "execution_count": 19,
     "metadata": {},
     "output_type": "execute_result"
    }
   ],
   "source": [
    "g7[g7 > 70]"
   ]
  },
  {
   "cell_type": "code",
   "execution_count": 20,
   "id": "936e6dc4-8463-4cbb-8fc8-6f5ba5f9200c",
   "metadata": {},
   "outputs": [
    {
     "data": {
      "text/plain": [
       "107.29999999999998"
      ]
     },
     "execution_count": 20,
     "metadata": {},
     "output_type": "execute_result"
    }
   ],
   "source": [
    "g7.mean()\n"
   ]
  },
  {
   "cell_type": "code",
   "execution_count": null,
   "id": "86ada717-4a9c-408e-a2da-daffada2561e",
   "metadata": {},
   "outputs": [],
   "source": []
  }
 ],
 "metadata": {
  "kernelspec": {
   "display_name": "Python 3 (ipykernel)",
   "language": "python",
   "name": "python3"
  },
  "language_info": {
   "codemirror_mode": {
    "name": "ipython",
    "version": 3
   },
   "file_extension": ".py",
   "mimetype": "text/x-python",
   "name": "python",
   "nbconvert_exporter": "python",
   "pygments_lexer": "ipython3",
   "version": "3.9.12"
  }
 },
 "nbformat": 4,
 "nbformat_minor": 5
}
